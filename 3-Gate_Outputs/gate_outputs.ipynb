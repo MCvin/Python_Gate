{
 "cells": [
  {
   "cell_type": "markdown",
   "metadata": {
    "slideshow": {
     "slide_type": "slide"
    }
   },
   "source": [
    "git clone https://github.com/MCvin/python4gate.git"
   ]
  },
  {
   "cell_type": "markdown",
   "metadata": {
    "slideshow": {
     "slide_type": "slide"
    }
   },
   "source": [
    "# GATE output formats and Python"
   ]
  },
  {
   "cell_type": "markdown",
   "metadata": {
    "slideshow": {
     "slide_type": "fragment"
    }
   },
   "source": [
    "## GATE can output information in different formats:\n",
    "\n",
    "### From actors, examples:\n",
    "* SimulationStatisticActor : store number of events, tracks, steps in **ASCII**\n",
    "* DoseActor : store absorbed dose in **ASCII, ROOT for 1D and 2D**, and **.hdr, .mhd for 3D**\n",
    "* EnergySpectrumActor: store energy distribution in **ROOT**\n",
    "* PhaseSpaceActor: store the particle's type, position, direction, energy, ... in **ROOT, IAEA, NumPy**\n",
    "\n",
    "See https://opengate.readthedocs.io/en/latest/tools_to_interact_with_the_simulation_actors.html\n",
    "\n",
    "### From imaging \"systems\" (scanner, CT, SPECT, PET, ...):\n",
    "* to record interactions: hits, singles, coincidences in **ASCII, binary, ROOT, NumPy**\n",
    "* to save images: projections and sinograms in **.hdr, .mhd**\n",
    "\n",
    "See https://opengate.readthedocs.io/en/latest/data_output_management.html"
   ]
  },
  {
   "cell_type": "markdown",
   "metadata": {
    "slideshow": {
     "slide_type": "subslide"
    }
   },
   "source": [
    "## In summary, when using GATE you will produce one of these output formats:\n",
    "* ASCII output\n",
    "* Binary output\n",
    "* Images (.mhd, .hdr) output\n",
    "* ROOT tree output\n",
    "* NumPy tree output (new!)"
   ]
  },
  {
   "cell_type": "markdown",
   "metadata": {
    "slideshow": {
     "slide_type": "slide"
    }
   },
   "source": [
    "# Demonstration with the GATE application Ex_beam"
   ]
  },
  {
   "cell_type": "markdown",
   "metadata": {
    "slideshow": {
     "slide_type": "fragment"
    }
   },
   "source": [
    "#### We will first have a look at a GATE example to understand these outputs:\n",
    "* open a terminal and go to the folder gate_outputs/Ex_beam\n",
    "* look at the different files and open mac/main.mac\n",
    "* look at all the sections and in particular to the ouputs section\n",
    "* run the example with  \n",
    "`Gate --qt mac/main.mac`\n",
    "* check the output folder and the different files produced\n",
    "\n",
    "#### We will now analyse each output with this Python notebook !"
   ]
  },
  {
   "cell_type": "markdown",
   "metadata": {
    "slideshow": {
     "slide_type": "slide"
    }
   },
   "source": [
    "# GATE ASCII output"
   ]
  },
  {
   "cell_type": "markdown",
   "metadata": {
    "slideshow": {
     "slide_type": "fragment"
    }
   },
   "source": [
    "## 1D DoseActor (along Z)"
   ]
  },
  {
   "cell_type": "code",
   "execution_count": null,
   "metadata": {
    "slideshow": {
     "slide_type": "fragment"
    }
   },
   "outputs": [],
   "source": [
    "import numpy as np\n",
    "import matplotlib.pyplot as plt\n",
    "%matplotlib inline"
   ]
  },
  {
   "cell_type": "code",
   "execution_count": null,
   "metadata": {
    "slideshow": {
     "slide_type": "fragment"
    }
   },
   "outputs": [],
   "source": [
    "# Load data from txt files\n",
    "d_edep = np.loadtxt('Ex_Beam/output/1D-depth-Edep.txt')\n",
    "d_uncert = np.loadtxt('Ex_Beam/output/1D-depth-Edep-Uncertainty.txt')"
   ]
  },
  {
   "cell_type": "markdown",
   "metadata": {
    "slideshow": {
     "slide_type": "subslide"
    }
   },
   "source": [
    "## Plot depth dose and uncertainty"
   ]
  },
  {
   "cell_type": "code",
   "execution_count": null,
   "metadata": {
    "scrolled": false,
    "slideshow": {
     "slide_type": "fragment"
    }
   },
   "outputs": [],
   "source": [
    "# Declare a single figure (one row, one column)\n",
    "fig, ax = plt.subplots(ncols=1, nrows=1, figsize=(12, 6), facecolor='w')\n",
    "\n",
    "# generate x for the plots\n",
    "x = np.linspace(0, len(d_edep), len(d_edep))\n",
    "\n",
    "# First curve, gamma depth in green\n",
    "c1 = ax.plot(x, d_edep, 'g-', label='edep', linewidth=2)\n",
    "\n",
    "# Second curve, gamma uncertainty in blue, share the same x axis, but use a different y axis\n",
    "ax2 = ax.twinx()\n",
    "c2 = ax2.plot(x, d_uncert, 'b-', label='$\\sigma$ (uncertainty)')\n",
    "\n",
    "# Add the legend and the title\n",
    "fig.legend(bbox_to_anchor=(1,1), bbox_transform=ax.transAxes)\n",
    "ax.set_xlabel('Distance')\n",
    "ax.set_ylabel('Deposited energy in MeV')\n",
    "f = ax2.set_ylabel('Uncertainty')"
   ]
  },
  {
   "cell_type": "markdown",
   "metadata": {
    "slideshow": {
     "slide_type": "slide"
    }
   },
   "source": [
    "# GATE image output"
   ]
  },
  {
   "cell_type": "markdown",
   "metadata": {
    "slideshow": {
     "slide_type": "fragment"
    }
   },
   "source": [
    "## 3D DoseActor - format mhd/raw"
   ]
  },
  {
   "cell_type": "code",
   "execution_count": null,
   "metadata": {
    "slideshow": {
     "slide_type": "fragment"
    }
   },
   "outputs": [],
   "source": [
    "import SimpleITK as sitk\n",
    "\n",
    "img_dose = sitk.ReadImage('Ex_Beam/output/3D-Edep.mhd')\n",
    "arr_dose = sitk.GetArrayFromImage(img_dose)\n",
    "print('Image size = ', arr_dose.shape)\n",
    "print('Image min and max: ',  np.amin(arr_dose), np.amax(arr_dose))"
   ]
  },
  {
   "cell_type": "code",
   "execution_count": null,
   "metadata": {
    "scrolled": true,
    "slideshow": {
     "slide_type": "fragment"
    }
   },
   "outputs": [],
   "source": [
    "arr_dose"
   ]
  },
  {
   "cell_type": "markdown",
   "metadata": {
    "slideshow": {
     "slide_type": "subslide"
    }
   },
   "source": [
    "## Exercise\n",
    "* make the same plot (depth dose) as previous section with this 3D data"
   ]
  },
  {
   "cell_type": "code",
   "execution_count": null,
   "metadata": {
    "slideshow": {
     "slide_type": "fragment"
    }
   },
   "outputs": [],
   "source": [
    "# complete here ..."
   ]
  },
  {
   "cell_type": "markdown",
   "metadata": {
    "slideshow": {
     "slide_type": "slide"
    }
   },
   "source": [
    "# GATE list of interactions"
   ]
  },
  {
   "cell_type": "markdown",
   "metadata": {
    "slideshow": {
     "slide_type": "fragment"
    }
   },
   "source": [
    "## Binary format\n",
    "See https://opengate.readthedocs.io/en/latest/data_output_management.html#hits-file-gatehits-dat-bin"
   ]
  },
  {
   "cell_type": "code",
   "execution_count": null,
   "metadata": {
    "slideshow": {
     "slide_type": "fragment"
    }
   },
   "outputs": [],
   "source": [
    "import numpy as np\n",
    "\n",
    "# dtype line format for \"scanner\" GATE system binary output (26 columns)\n",
    "dt=np.dtype([('run_ID', np.int32), ('event_ID', np.int32), ('primary_ID', np.int32), ('source_ID', np.int32), \n",
    "             ('level1_ID', np.int32), ('level2_ID', np.int32), ('level3_ID', np.int32), ('level4_ID', np.int32), \n",
    "             ('level5_ID', np.int32), ('layer0_ID', np.int32), ('layer1_ID', np.int32), \n",
    "             ('time', np.float64), ('energy', np.float64), ('range', np.float64), \n",
    "             ('x', np.float64), ('y', np.float64), ('z', np.float64), \n",
    "             ('G4code', np.int32), ('particle_ID', np.int32), ('mother_particle_ID', np.int32), ('photon_mother_ID', np.int32), \n",
    "             ('n_Compt', np.int32), ('n_Rayl', np.int32), \n",
    "             ('process', np.dtype('S8')), ('vol_Compt', np.dtype('S8')), ('vol_Rayl', np.dtype('S8'))])\n",
    "\n",
    "data=np.fromfile('Ex_Beam/output/list-Hits.bin', dtype=dt)\n",
    "print('Number of particles:', len(data))\n",
    "data"
   ]
  },
  {
   "cell_type": "code",
   "execution_count": null,
   "metadata": {
    "scrolled": true,
    "slideshow": {
     "slide_type": "subslide"
    }
   },
   "outputs": [],
   "source": [
    "import matplotlib.pyplot as plt\n",
    "%matplotlib inline\n",
    "\n",
    "# Plot the energy histogram\n",
    "x = data['energy']\n",
    "\n",
    "n, bins, patches = plt.hist(x, bins=100, range=[0,0.5], alpha=0.75)"
   ]
  },
  {
   "cell_type": "markdown",
   "metadata": {
    "slideshow": {
     "slide_type": "subslide"
    }
   },
   "source": [
    "## Exercise  \n",
    "* select and print only data corresponding to the process 'phot'\n",
    "* plot the corresponding energy histogram\n",
    "* explain the energy spectrum (increase the number of primaries if necessary)"
   ]
  },
  {
   "cell_type": "code",
   "execution_count": null,
   "metadata": {
    "slideshow": {
     "slide_type": "fragment"
    }
   },
   "outputs": [],
   "source": [
    "# complete here ..."
   ]
  },
  {
   "cell_type": "markdown",
   "metadata": {
    "slideshow": {
     "slide_type": "slide"
    }
   },
   "source": [
    "## GATE ROOT Tree output"
   ]
  },
  {
   "cell_type": "code",
   "execution_count": null,
   "metadata": {
    "slideshow": {
     "slide_type": "fragment"
    }
   },
   "outputs": [],
   "source": [
    "import uproot\n",
    "\n",
    "f = uproot.open('Ex_Beam/output/tree.hits.root')\n",
    "\n",
    "# all trees, branches and leaves names are accessible through the method keys()\n",
    "print('Trees in the file:')\n",
    "print(f.keys())\n",
    "print()\n",
    "print('Leaves (variables) in the Tree:')\n",
    "print(f['tree'].keys())\n",
    "\n",
    "# all variables are accessible through the method arrays()\n",
    "data = f['tree'].arrays()\n",
    "\n",
    "print()\n",
    "print('Number of particles:', len(data[b'trackID']))"
   ]
  },
  {
   "cell_type": "code",
   "execution_count": null,
   "metadata": {
    "scrolled": true,
    "slideshow": {
     "slide_type": "subslide"
    }
   },
   "outputs": [],
   "source": [
    "import matplotlib.pyplot as plt\n",
    "%matplotlib inline\n",
    "\n",
    "# Plot the energy histogram\n",
    "x = data[b'edep']\n",
    "\n",
    "n, bins, patches = plt.hist(x, bins=100, range=[0,0.5], alpha=0.75)"
   ]
  },
  {
   "cell_type": "code",
   "execution_count": null,
   "metadata": {
    "scrolled": true,
    "slideshow": {
     "slide_type": "subslide"
    }
   },
   "outputs": [],
   "source": [
    "from matplotlib.colors import LogNorm\n",
    "\n",
    "# Plot the particle positions\n",
    "x = data[b'posX']\n",
    "y = data[b'posY']\n",
    "\n",
    "fig = plt.scatter(x, y, alpha=0.75)\n",
    "#fig = plt.hist2d(x, y, bins=100, norm=LogNorm())"
   ]
  },
  {
   "cell_type": "markdown",
   "metadata": {
    "slideshow": {
     "slide_type": "slide"
    }
   },
   "source": [
    "## GATE Numpy Tree output - New !\n",
    "GATE simulations can now output information on interactions occuring in a detector in a new format: the NumPy .npy Python format. This as several advantages:\n",
    "* data is easily open in Python.\n",
    "* data is saved as a [Structured Arrays](https://docs.scipy.org/doc/numpy/user/basics.rec.html) which makes the access to variables very easy."
   ]
  },
  {
   "cell_type": "code",
   "execution_count": null,
   "metadata": {
    "scrolled": true,
    "slideshow": {
     "slide_type": "fragment"
    }
   },
   "outputs": [],
   "source": [
    "import numpy as np\n",
    "\n",
    "data = np.load('Ex_Beam/output/tree.hits.npy')\n",
    "\n",
    "print('Number of particles:', len(data))\n",
    "data"
   ]
  },
  {
   "cell_type": "markdown",
   "metadata": {
    "slideshow": {
     "slide_type": "subslide"
    }
   },
   "source": [
    "## Exercise\n",
    "Make the same data analysis as with the ROOT output:\n",
    "* select and plot the histogram of the particle energies\n",
    "* select and plot the particle positions"
   ]
  },
  {
   "cell_type": "code",
   "execution_count": null,
   "metadata": {
    "slideshow": {
     "slide_type": "fragment"
    }
   },
   "outputs": [],
   "source": [
    "# complete here ..."
   ]
  }
 ],
 "metadata": {
  "celltoolbar": "Slideshow",
  "kernelspec": {
   "display_name": "Python 3",
   "language": "python",
   "name": "python3"
  },
  "language_info": {
   "codemirror_mode": {
    "name": "ipython",
    "version": 3
   },
   "file_extension": ".py",
   "mimetype": "text/x-python",
   "name": "python",
   "nbconvert_exporter": "python",
   "pygments_lexer": "ipython3",
   "version": "3.6.9"
  }
 },
 "nbformat": 4,
 "nbformat_minor": 2
}
