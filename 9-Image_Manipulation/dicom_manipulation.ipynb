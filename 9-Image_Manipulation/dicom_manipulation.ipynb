{
 "cells": [
  {
   "cell_type": "markdown",
   "metadata": {
    "slideshow": {
     "slide_type": "slide"
    }
   },
   "source": [
    "# Dicom file manipulation with the Pydicom Library\n",
    "https://pydicom.github.io/"
   ]
  },
  {
   "cell_type": "markdown",
   "metadata": {
    "slideshow": {
     "slide_type": "fragment"
    }
   },
   "source": [
    "## Contents:\n",
    "* Reading Dicom files (general)\n",
    "* Changing Dicom tags\n",
    "* Modifying Dicom images\n",
    "* Reading Dicom CT image files\n",
    "* Reading Dicom RT Plan files"
   ]
  },
  {
   "cell_type": "markdown",
   "metadata": {
    "slideshow": {
     "slide_type": "fragment"
    }
   },
   "source": [
    "###  Architecture of DICOM :\n",
    "https://dicom.innolitics.com/ciods"
   ]
  },
  {
   "cell_type": "markdown",
   "metadata": {
    "slideshow": {
     "slide_type": "slide"
    }
   },
   "source": [
    "# Reading Dicom files (general)"
   ]
  },
  {
   "cell_type": "markdown",
   "metadata": {
    "slideshow": {
     "slide_type": "fragment"
    }
   },
   "source": [
    "## Exemple with a Nuclear Medicine imaging (SPECT) Dicom"
   ]
  },
  {
   "cell_type": "code",
   "execution_count": null,
   "metadata": {
    "slideshow": {
     "slide_type": "fragment"
    }
   },
   "outputs": [],
   "source": [
    "import pydicom as dcm\n",
    "\n",
    "# open dicom file (works for all .dcm file)\n",
    "File = dcm.read_file('data/patient_SPECT.dcm')\n",
    "print(File)"
   ]
  },
  {
   "cell_type": "markdown",
   "metadata": {
    "slideshow": {
     "slide_type": "subslide"
    }
   },
   "source": [
    "## Acces to Dicom data by sequence name "
   ]
  },
  {
   "cell_type": "code",
   "execution_count": null,
   "metadata": {
    "slideshow": {
     "slide_type": "fragment"
    }
   },
   "outputs": [],
   "source": [
    "print('Image type :',  File.ImageType )\n",
    "print('Image type first element :', File.ImageType[0])\n",
    "print('Modality: ',  File.Modality)\n",
    "print()\n",
    "# Type of data\n",
    "# Note that they are all string, so you need a conversion to (float, int...)\n",
    "print('type of ImageType dicom sequence : ', type(File.ImageType))\n",
    "print('type of first element of ImageType dicom sequence : ', type(File.ImageType[0]))\n",
    "print()\n",
    "pixelSpacing = File.PixelSpacing\n",
    "print('pixel spacing :', pixelSpacing)\n",
    "print('length pixel spacing sequence :', len(pixelSpacing))\n",
    "print('type pixel spacing :', type(pixelSpacing[0]))"
   ]
  },
  {
   "cell_type": "code",
   "execution_count": null,
   "metadata": {
    "slideshow": {
     "slide_type": "subslide"
    }
   },
   "outputs": [],
   "source": [
    "# Search dicom sequence with 'name' chain\n",
    "print(File.dir('name'))"
   ]
  },
  {
   "cell_type": "markdown",
   "metadata": {
    "slideshow": {
     "slide_type": "subslide"
    }
   },
   "source": [
    "## Acces to Dicom data by tag (hexadecimal)"
   ]
  },
  {
   "cell_type": "code",
   "execution_count": null,
   "metadata": {
    "slideshow": {
     "slide_type": "fragment"
    }
   },
   "outputs": [],
   "source": [
    "# print 'Detector Information Sequence' dicom sequence \n",
    "print(File[0x054, 0x022])\n",
    "\n",
    "# print 'Radialposition' First sub sequence of 'Detector Information Sequence' dicom sequence\n",
    "print(File[0x054, 0x022][0][0x018, 0x1142].value)"
   ]
  },
  {
   "cell_type": "code",
   "execution_count": null,
   "metadata": {
    "slideshow": {
     "slide_type": "subslide"
    }
   },
   "outputs": [],
   "source": [
    "list_0 = File[0x054, 0x022][0][0x018, 0x1142].value\n",
    "list_1 = File[0x054, 0x022][1][0x018, 0x1142].value\n",
    "# Note the loop to convert string into float into the 'list' pos_radial_0\n",
    "pos_radial_0 = [float(val) for val in list_0]\n",
    "pos_radial_1 = [float(val) for val in list_1]\n",
    "\n",
    "# concatenate 2 lists:\n",
    "pos_radial = pos_radial_1 + pos_radial_0\n",
    "print(pos_radial)"
   ]
  },
  {
   "cell_type": "code",
   "execution_count": null,
   "metadata": {
    "slideshow": {
     "slide_type": "subslide"
    }
   },
   "outputs": [],
   "source": [
    "import matplotlib.pyplot as plt\n",
    "%matplotlib inline\n",
    "\n",
    "# plot the positions\n",
    "plt.plot(pos_radial, 'o-', label='detecteur 1+2');"
   ]
  },
  {
   "cell_type": "code",
   "execution_count": null,
   "metadata": {
    "slideshow": {
     "slide_type": "subslide"
    }
   },
   "outputs": [],
   "source": [
    "import numpy as np\n",
    "\n",
    "# this polar plot with the same values describes camera trajectory surronding patient\n",
    "plt.polar([2*np.pi*l/64 for l in range(64)],pos_radial);"
   ]
  },
  {
   "cell_type": "markdown",
   "metadata": {
    "slideshow": {
     "slide_type": "subslide"
    }
   },
   "source": [
    "## Exercise - Creation of a dictionary on the  Energy Windows (there are 5)\n",
    "* search for the energy keyword in the tags\n",
    "* find the tag on energy windows and the information on the lower and higher limit\n",
    "* buid a dictionnary with the pic energy name as key and low, high and width as values"
   ]
  },
  {
   "cell_type": "code",
   "execution_count": null,
   "metadata": {
    "slideshow": {
     "slide_type": "skip"
    }
   },
   "outputs": [],
   "source": [
    "# complete here"
   ]
  },
  {
   "cell_type": "markdown",
   "metadata": {
    "slideshow": {
     "slide_type": "slide"
    }
   },
   "source": [
    "## Acces to Image pixel map"
   ]
  },
  {
   "cell_type": "code",
   "execution_count": null,
   "metadata": {
    "scrolled": true,
    "slideshow": {
     "slide_type": "fragment"
    }
   },
   "outputs": [],
   "source": [
    "# Acces to image pixel data \n",
    "arr_image = File.pixel_array\n",
    "print(type(arr_image))\n",
    "print('Image Dimension: ', File.pixel_array.shape)\n",
    "print(File.pixel_array.min(), File.pixel_array.max(), File.pixel_array.mean())"
   ]
  },
  {
   "cell_type": "code",
   "execution_count": null,
   "metadata": {
    "slideshow": {
     "slide_type": "subslide"
    }
   },
   "outputs": [],
   "source": [
    "from ipywidgets import interact\n",
    "import matplotlib.pyplot as plt\n",
    "%matplotlib inline\n",
    "\n",
    "def im_viewer(im,cmap):\n",
    "    def plot_image(myslice):\n",
    "        plt.imshow(im[myslice,:,:], cmap=cmap)\n",
    "    interact(plot_image, myslice=(0, im.shape[0]-1))\n",
    "    return;\n",
    "\n",
    "im_viewer(arr_image, plt.cm.hot)"
   ]
  },
  {
   "cell_type": "markdown",
   "metadata": {
    "slideshow": {
     "slide_type": "slide"
    }
   },
   "source": [
    "# Modifying Dicom files"
   ]
  },
  {
   "cell_type": "markdown",
   "metadata": {
    "slideshow": {
     "slide_type": "subslide"
    }
   },
   "source": [
    "## Changing Dicom tags"
   ]
  },
  {
   "cell_type": "code",
   "execution_count": null,
   "metadata": {
    "slideshow": {
     "slide_type": "fragment"
    }
   },
   "outputs": [],
   "source": [
    "# Remove patient name\n",
    "print(File.PatientName)\n",
    "File.PatientName = 'PythonCourse'\n",
    "print(File.PatientName)"
   ]
  },
  {
   "cell_type": "markdown",
   "metadata": {
    "slideshow": {
     "slide_type": "subslide"
    }
   },
   "source": [
    "## Changing the image data"
   ]
  },
  {
   "cell_type": "code",
   "execution_count": null,
   "metadata": {
    "slideshow": {
     "slide_type": "fragment"
    }
   },
   "outputs": [],
   "source": [
    "# modify and save\n",
    "print(File.pixel_array.min(), File.pixel_array.max(), File.pixel_array.mean())\n",
    "File.pixel_array[File.pixel_array < 100] = 0\n",
    "print(File.pixel_array.min(), File.pixel_array.max(), File.pixel_array.mean())\n",
    "\n",
    "# the pixel values are contained in PixelData, pixel_array is an attribute from pydicom\n",
    "# to store the new pixel values they need to be set as a string to PixelData\n",
    "File.PixelData = File.pixel_array.tostring()"
   ]
  },
  {
   "cell_type": "markdown",
   "metadata": {
    "slideshow": {
     "slide_type": "subslide"
    }
   },
   "source": [
    "## Saving Dicom file"
   ]
  },
  {
   "cell_type": "code",
   "execution_count": null,
   "metadata": {
    "slideshow": {
     "slide_type": "fragment"
    }
   },
   "outputs": [],
   "source": [
    "File.save_as('output/patient_SPECT_modified.dcm')"
   ]
  },
  {
   "cell_type": "markdown",
   "metadata": {
    "slideshow": {
     "slide_type": "slide"
    }
   },
   "source": [
    "# Reading Dicom CT image"
   ]
  },
  {
   "cell_type": "code",
   "execution_count": null,
   "metadata": {
    "slideshow": {
     "slide_type": "fragment"
    }
   },
   "outputs": [],
   "source": [
    "import numpy as np\n",
    "import pydicom as dcm\n",
    "from glob import glob\n",
    "\n",
    "def read_CT(path):\n",
    "    # read all .dcm images and put them in a list slices\n",
    "    slices = [dcm.read_file(file) for file in glob(path + '/*.dcm')]\n",
    "    # sort the slices\n",
    "    slices.sort(key = lambda x: float(x.ImagePositionPatient[2]))\n",
    "    # create a numpy matrix containing all slices\n",
    "    ct = np.stack([s.pixel_array for s in slices], axis=-1)\n",
    "    # Convert to Hounsfield units (HU)\n",
    "    ct = ct * slices[0].RescaleSlope + slices[0].RescaleIntercept\n",
    "    return ct"
   ]
  },
  {
   "cell_type": "code",
   "execution_count": null,
   "metadata": {
    "slideshow": {
     "slide_type": "subslide"
    }
   },
   "outputs": [],
   "source": [
    "# subset of anonymized CT dicom sample from https://www.dicomlibrary.com\n",
    "ct_image = read_CT('data/patient_CT_dcm/')\n",
    "ct_image.shape"
   ]
  },
  {
   "cell_type": "code",
   "execution_count": null,
   "metadata": {
    "slideshow": {
     "slide_type": "subslide"
    }
   },
   "outputs": [],
   "source": [
    "from ipywidgets import interact\n",
    "import matplotlib.pyplot as plt\n",
    "%matplotlib inline\n",
    "\n",
    "def im_viewer(im,cmap):\n",
    "    def plot_image(myslice):\n",
    "        plt.imshow(im[:,:,myslice], cmap=cmap)\n",
    "    interact(plot_image, myslice=(0, im.shape[2]-1))\n",
    "    return;\n",
    "\n",
    "im_viewer(ct_image, plt.cm.bone)"
   ]
  },
  {
   "cell_type": "markdown",
   "metadata": {
    "slideshow": {
     "slide_type": "slide"
    }
   },
   "source": [
    "# Reading DICOM RT plan"
   ]
  },
  {
   "cell_type": "markdown",
   "metadata": {
    "slideshow": {
     "slide_type": "fragment"
    }
   },
   "source": [
    "#### DICOM input for GATE simulations:\n",
    "* Beam level\n",
    "    * Beam Delivery Type\n",
    "    * Beam Type\n",
    "    * Beam Radiation Type\n",
    "    * Beam Energy\n",
    "    * Beam Fluence Type\n",
    "    * Direction Gantry Rotation\n",
    "    * Direction Collimator Rotation\n",
    "    * Collimator Rotation\n",
    "    * Isocenter Position\n",
    "    * Applicator ID (electron beam)\n",
    "    * Applicator Type (electron beam)\n",
    "    * Source Surface Distance (electron beam)\n",
    "* Control Point Index\n",
    "    * Gantry Angle\n",
    "    * X Jaws Poistions\n",
    "    * Y Jaws Positions\n",
    "    * MLC Positions\n",
    "    * Dose Rate\n",
    "    \n",
    "    \n"
   ]
  },
  {
   "cell_type": "code",
   "execution_count": null,
   "metadata": {
    "slideshow": {
     "slide_type": "subslide"
    }
   },
   "outputs": [],
   "source": [
    "import pydicom as dcm\n",
    "\n",
    "plan = dcm.read_file(\"data/patient_RP.dcm\")\n",
    "print(plan)"
   ]
  },
  {
   "cell_type": "code",
   "execution_count": null,
   "metadata": {
    "slideshow": {
     "slide_type": "subslide"
    }
   },
   "outputs": [],
   "source": [
    "for beam in plan.BeamSequence:\n",
    "    print('Beam Name: ', beam.BeamName)\n",
    "    print('Beam Delivery Type: ', beam.BeamType)\n",
    "    print('Beam Radiation Type: ', beam.RadiationType)\n",
    "    print('Beam Energy: ', beam.ControlPointSequence[0].NominalBeamEnergy)\n",
    "    print('Beam Fluence Mode: ', beam.PrimaryFluenceModeSequence[0].FluenceMode)\n",
    "    \n",
    "    for control_index in beam.ControlPointSequence:\n",
    "        print('Control Index: ', control_index.ControlPointIndex)\n",
    "        print('     *Gantry Angle: ', control_index.GantryAngle)\n",
    "        print('     *Dose Rate: ', control_index.ReferencedDoseReferenceSequence[0].CumulativeDoseReferenceCoefficient)\n",
    "        print('     *MLC: ', control_index.BeamLimitingDevicePositionSequence[0].LeafJawPositions) # bug to fix control index 0 MLC vlaues seem wrong"
   ]
  },
  {
   "cell_type": "markdown",
   "metadata": {
    "slideshow": {
     "slide_type": "subslide"
    }
   },
   "source": [
    "## Exercise - build a dictionary with beam parameters\n",
    "* create a dictionary with 'Name' and 'ID' as keys (and PatientName, PatientID as values)\n",
    "* add a key 'Beam' as a dictionary\n",
    "* loop over the plan.BeamSequence and search for TreatmentDeliveryType == 'TREATMENT'\n",
    "* search for a LeafJawPositions in the beam.ControlPointSequence\n",
    "* add the LeafJawPositions to your dictionary as a fonction of the BeamName"
   ]
  },
  {
   "cell_type": "code",
   "execution_count": null,
   "metadata": {
    "slideshow": {
     "slide_type": "skip"
    }
   },
   "outputs": [],
   "source": [
    "# complete here ..."
   ]
  }
 ],
 "metadata": {
  "celltoolbar": "Slideshow",
  "kernelspec": {
   "display_name": "Python 3",
   "language": "python",
   "name": "python3"
  },
  "language_info": {
   "codemirror_mode": {
    "name": "ipython",
    "version": 3
   },
   "file_extension": ".py",
   "mimetype": "text/x-python",
   "name": "python",
   "nbconvert_exporter": "python",
   "pygments_lexer": "ipython3",
   "version": "3.6.9"
  }
 },
 "nbformat": 4,
 "nbformat_minor": 2
}
