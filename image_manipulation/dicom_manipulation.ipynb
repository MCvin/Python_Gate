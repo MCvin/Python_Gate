{
 "cells": [
  {
   "cell_type": "markdown",
   "metadata": {
    "slideshow": {
     "slide_type": "slide"
    }
   },
   "source": [
    "# Dicom file manipulation with the Pydicom Library\n",
    "https://pydicom.github.io/"
   ]
  },
  {
   "cell_type": "markdown",
   "metadata": {
    "slideshow": {
     "slide_type": "fragment"
    }
   },
   "source": [
    "## Contents:\n",
    "* Reading Dicom files\n",
    "* Modifying Dicom images\n",
    "* Changing Dicom tags\n",
    "* Reading Dicom CT image files\n",
    "* Reading Dicom RT Plan files"
   ]
  },
  {
   "cell_type": "markdown",
   "metadata": {
    "slideshow": {
     "slide_type": "fragment"
    }
   },
   "source": [
    "###  Architecture of DICOM :\n",
    "### https://dicom.innolitics.com/ciods"
   ]
  },
  {
   "cell_type": "markdown",
   "metadata": {
    "slideshow": {
     "slide_type": "slide"
    }
   },
   "source": [
    "# Reading Dicom files (general)"
   ]
  },
  {
   "cell_type": "markdown",
   "metadata": {
    "slideshow": {
     "slide_type": "fragment"
    }
   },
   "source": [
    "## Exemple with a Nuclear Medicine imaging (SPECT) Dicom"
   ]
  },
  {
   "cell_type": "code",
   "execution_count": null,
   "metadata": {
    "slideshow": {
     "slide_type": "fragment"
    }
   },
   "outputs": [],
   "source": [
    "import pydicom as dcm\n",
    "\n",
    "# open dicom file (works for all .dcm file)\n",
    "File=dcm.read_file('data/patient_SPECT.dcm')\n",
    "print(File)"
   ]
  },
  {
   "cell_type": "markdown",
   "metadata": {
    "slideshow": {
     "slide_type": "slide"
    }
   },
   "source": [
    "## Acces to Dicom data by sequence name "
   ]
  },
  {
   "cell_type": "code",
   "execution_count": null,
   "metadata": {
    "slideshow": {
     "slide_type": "fragment"
    }
   },
   "outputs": [],
   "source": [
    "print('Image type :',  File.ImageType )\n",
    "print('Image type first element :', File.ImageType[0])\n",
    "print('Modality: ',  File.Modality)\n",
    "print()\n",
    "# Type of datas\n",
    "# Note that they are all string, so you need a conversion to (float, int...)\n",
    "print('type of ImageType dicom sequence : ', type(File.ImageType))\n",
    "print('type of first element of ImageType dicom sequence : ', type(File.ImageType[0]))\n",
    "print()\n",
    "pixelSpacing = File.PixelSpacing\n",
    "print ('pixel spacing :', pixelSpacing)\n",
    "print ('length pixel spacing sequence :', len(pixelSpacing))\n",
    "print ('type pixel spacing :', type(pixelSpacing[0]))"
   ]
  },
  {
   "cell_type": "code",
   "execution_count": null,
   "metadata": {
    "slideshow": {
     "slide_type": "fragment"
    }
   },
   "outputs": [],
   "source": [
    "# Search dicom sequence with 'name' chain\n",
    "print (File.dir('name'))"
   ]
  },
  {
   "cell_type": "markdown",
   "metadata": {
    "slideshow": {
     "slide_type": "slide"
    }
   },
   "source": [
    "## Acces to Dicom data by tag (hexadecimal)"
   ]
  },
  {
   "cell_type": "code",
   "execution_count": null,
   "metadata": {
    "slideshow": {
     "slide_type": "fragment"
    }
   },
   "outputs": [],
   "source": [
    "#print 'Detector Information Sequence' dicom sequence \n",
    "print (File[0x054, 0x022])\n",
    "\n",
    "#print 'Radialposition' First sub sequence of 'Detector Information Sequence' dicom sequence\n",
    "print (File[0x054, 0x022][0][0x018, 0x1142].value)"
   ]
  },
  {
   "cell_type": "code",
   "execution_count": null,
   "metadata": {
    "slideshow": {
     "slide_type": "fragment"
    }
   },
   "outputs": [],
   "source": [
    "list_0 = File[0x054, 0x022][0][0x018, 0x1142].value\n",
    "list_1 = File[0x054, 0x022][1][0x018, 0x1142].value\n",
    "# Note the loop to convert string into float into the 'list' pos_radial_0\n",
    "pos_radial_0 = [float(val) for val in list_0]\n",
    "pos_radial_1 = [float(val) for val in list_1]"
   ]
  },
  {
   "cell_type": "code",
   "execution_count": null,
   "metadata": {
    "slideshow": {
     "slide_type": "slide"
    }
   },
   "outputs": [],
   "source": [
    "import matplotlib.pyplot as plt\n",
    "%matplotlib inline\n",
    "\n",
    "# plot the positions\n",
    "plt.plot(pos_radial_1+pos_radial_0, 'o-', label='detecteur 1+2');"
   ]
  },
  {
   "cell_type": "code",
   "execution_count": null,
   "metadata": {
    "slideshow": {
     "slide_type": "slide"
    }
   },
   "outputs": [],
   "source": [
    "import numpy as np\n",
    "\n",
    "# this polar plot with the same values describes camera trajectory surronding patient\n",
    "plt.polar([2*np.pi*l/64 for l in range(64)],pos_radial_1+pos_radial_0);"
   ]
  },
  {
   "cell_type": "markdown",
   "metadata": {
    "slideshow": {
     "slide_type": "slide"
    }
   },
   "source": [
    "## Acces to Image pixel map"
   ]
  },
  {
   "cell_type": "code",
   "execution_count": null,
   "metadata": {
    "scrolled": true,
    "slideshow": {
     "slide_type": "fragment"
    }
   },
   "outputs": [],
   "source": [
    "# Acces to image pixel data \n",
    "arr_image = File.pixel_array\n",
    "print (type(arr_image))\n",
    "print ('Image Dimension : ', File.pixel_array.shape)\n",
    "print(File.pixel_array.min(), File.pixel_array.max(), File.pixel_array.mean())"
   ]
  },
  {
   "cell_type": "code",
   "execution_count": null,
   "metadata": {
    "slideshow": {
     "slide_type": "fragment"
    }
   },
   "outputs": [],
   "source": [
    "from ipywidgets import interact\n",
    "import matplotlib.pyplot as plt\n",
    "%matplotlib inline\n",
    "\n",
    "def im_viewer(im,cmap):\n",
    "    def plot_image(myslice):\n",
    "        plt.imshow(im[myslice,:,:], cmap=cmap)\n",
    "    interact(plot_image, myslice=(0, im.shape[0]-1))\n",
    "    return;\n",
    "\n",
    "im_viewer(arr_image, plt.cm.hot)"
   ]
  },
  {
   "cell_type": "markdown",
   "metadata": {
    "collapsed": true,
    "slideshow": {
     "slide_type": "slide"
    }
   },
   "source": [
    "## Creation of a dictionary on the  Energy Windows (there are 5)"
   ]
  },
  {
   "cell_type": "code",
   "execution_count": null,
   "metadata": {
    "slideshow": {
     "slide_type": "fragment"
    }
   },
   "outputs": [],
   "source": [
    "# Looking for dicom sequence\n",
    "File.dir('energy')"
   ]
  },
  {
   "cell_type": "code",
   "execution_count": null,
   "metadata": {
    "scrolled": true,
    "slideshow": {
     "slide_type": "fragment"
    }
   },
   "outputs": [],
   "source": [
    "print (File.EnergyWindowInformationSequence)\n",
    "print \n",
    "print ('there are', len(File.EnergyWindowInformationSequence), 'energies')"
   ]
  },
  {
   "cell_type": "code",
   "execution_count": null,
   "metadata": {
    "slideshow": {
     "slide_type": "slide"
    }
   },
   "outputs": [],
   "source": [
    "# Example of two way to acces to Sequence Data\n",
    "print (File.EnergyWindowInformationSequence[0].EnergyWindowRangeSequence[0].EnergyWindowLowerLimit)\n",
    "print (File.EnergyWindowInformationSequence[0][0x054, 0x013][0][0x054, 0x014].value)"
   ]
  },
  {
   "cell_type": "code",
   "execution_count": null,
   "metadata": {
    "slideshow": {
     "slide_type": "fragment"
    }
   },
   "outputs": [],
   "source": [
    "#Dictionary creation \n",
    "dic_energy={}\n",
    "\n",
    "# Loop on every energy of EnergyWindowInformationSequence and collect data \n",
    "for energy in File.EnergyWindowInformationSequence:\n",
    "    low=float(energy[0x054, 0x013][0][0x054, 0x014].value)\n",
    "    high=float(energy[0x054, 0x013][0][0x054, 0x015].value)\n",
    "    width=high-low\n",
    "    pic=(high+low)/2\n",
    "    pic_name=round((high+low)/2, 0)        #round to get int part \n",
    "    dic_energy[pic_name]={}\n",
    "    dic_energy[pic_name]['low']=low\n",
    "    dic_energy[pic_name]['high']=high\n",
    "    dic_energy[pic_name]['width']=width\n",
    "    dic_energy[pic_name]['pic']=pic\n",
    "\n",
    "dic_energy"
   ]
  },
  {
   "cell_type": "markdown",
   "metadata": {
    "slideshow": {
     "slide_type": "slide"
    }
   },
   "source": [
    "# Modifying Dicom files"
   ]
  },
  {
   "cell_type": "markdown",
   "metadata": {
    "slideshow": {
     "slide_type": "fragment"
    }
   },
   "source": [
    "## Changing the image data"
   ]
  },
  {
   "cell_type": "code",
   "execution_count": null,
   "metadata": {
    "slideshow": {
     "slide_type": "fragment"
    }
   },
   "outputs": [],
   "source": [
    "# modify and save\n",
    "print (File.pixel_array.min(), File.pixel_array.max(), File.pixel_array.mean())\n",
    "File.pixel_array[File.pixel_array < 100] = 0\n",
    "print (File.pixel_array.min(), File.pixel_array.max(), File.pixel_array.mean())\n",
    "\n",
    "# the pixel values are contained in PixelData, pixel_array is an attribute from pydicom\n",
    "# to store the new pixel values they need to be set as a string to PixelData\n",
    "File.PixelData = File.pixel_array.tostring()"
   ]
  },
  {
   "cell_type": "markdown",
   "metadata": {
    "slideshow": {
     "slide_type": "slide"
    }
   },
   "source": [
    "## Changing Dicom tags"
   ]
  },
  {
   "cell_type": "code",
   "execution_count": null,
   "metadata": {
    "slideshow": {
     "slide_type": "fragment"
    }
   },
   "outputs": [],
   "source": [
    "\n",
    "# Read Dicom file\n",
    "\n",
    "# Access Dicom tags\n",
    "\n",
    "# Remove patient name"
   ]
  },
  {
   "cell_type": "markdown",
   "metadata": {
    "slideshow": {
     "slide_type": "slide"
    }
   },
   "source": [
    "## Saving Dicom file"
   ]
  },
  {
   "cell_type": "code",
   "execution_count": null,
   "metadata": {
    "slideshow": {
     "slide_type": "fragment"
    }
   },
   "outputs": [],
   "source": [
    "File.save_as('output/test.dcm')"
   ]
  },
  {
   "cell_type": "markdown",
   "metadata": {
    "slideshow": {
     "slide_type": "slide"
    }
   },
   "source": [
    "# Reading Dicom CT image"
   ]
  },
  {
   "cell_type": "code",
   "execution_count": 5,
   "metadata": {
    "slideshow": {
     "slide_type": "fragment"
    }
   },
   "outputs": [],
   "source": [
    "import numpy as np\n",
    "import pydicom as dcm\n",
    "#from glob import glob\n",
    "import os\n",
    "\n",
    "def read_CT(path):\n",
    "    for s in os.listdir(path):\n",
    "        print(s)\n",
    "    slices = [dcm.read_file(path + '/' + s) for s in os.listdir(path)]\n",
    "    #slices = []\n",
    "    #for file in glob(path + '/*.dcm'):\n",
    "    #    dc = dcm.read_file(file)\n",
    "    #    slices.append(dc)\n",
    "    # sort the slices\n",
    "    slices.sort(key = lambda x: float(x.ImagePositionPatient[2]))\n",
    "    # create a numpy matrix containing all slices\n",
    "    ct = np.stack([s.pixel_array for s in slices], axis=-1)\n",
    "    # Convert to Hounsfield units (HU)\n",
    "    ct = ct * slices[0].RescaleSlope + slices[0].RescaleIntercept\n",
    "    return ct"
   ]
  },
  {
   "cell_type": "code",
   "execution_count": 6,
   "metadata": {
    "slideshow": {
     "slide_type": "fragment"
    }
   },
   "outputs": [
    {
     "name": "stdout",
     "output_type": "stream",
     "text": [
      "image-000000.dcm\n",
      "image-000014.dcm\n",
      "image-000015.dcm\n",
      "image-000001.dcm\n",
      "image-000017.dcm\n",
      "image-000003.dcm\n",
      "image-000002.dcm\n",
      "image-000016.dcm\n",
      "image-000012.dcm\n",
      "image-000006.dcm\n",
      ".DS_Store\n",
      "image-000007.dcm\n",
      "image-000013.dcm\n",
      "image-000005.dcm\n",
      "image-000011.dcm\n",
      "image-000010.dcm\n",
      "image-000004.dcm\n",
      "image-000009.dcm\n",
      "image-000021.dcm\n",
      "image-000020.dcm\n",
      "image-000008.dcm\n",
      "image-000022.dcm\n",
      "image-000023.dcm\n",
      "image-000024.dcm\n",
      "image-000018.dcm\n",
      "image-000019.dcm\n",
      "image-000025.dcm\n"
     ]
    },
    {
     "ename": "InvalidDicomError",
     "evalue": "File is missing DICOM File Meta Information header or the 'DICM' prefix is missing from the header. Use force=True to force reading.",
     "output_type": "error",
     "traceback": [
      "\u001b[0;31m---------------------------------------------------------------------------\u001b[0m",
      "\u001b[0;31mInvalidDicomError\u001b[0m                         Traceback (most recent call last)",
      "\u001b[0;32m<ipython-input-6-5f0043b383c0>\u001b[0m in \u001b[0;36m<module>\u001b[0;34m\u001b[0m\n\u001b[1;32m      1\u001b[0m \u001b[0;31m# subset of anonymized CT dicom sample from https://www.dicomlibrary.com\u001b[0m\u001b[0;34m\u001b[0m\u001b[0;34m\u001b[0m\u001b[0;34m\u001b[0m\u001b[0m\n\u001b[0;32m----> 2\u001b[0;31m \u001b[0mct_image\u001b[0m \u001b[0;34m=\u001b[0m \u001b[0mread_CT\u001b[0m\u001b[0;34m(\u001b[0m\u001b[0;34m'data/patient_CT_dcm/'\u001b[0m\u001b[0;34m)\u001b[0m\u001b[0;34m\u001b[0m\u001b[0;34m\u001b[0m\u001b[0m\n\u001b[0m\u001b[1;32m      3\u001b[0m \u001b[0mct_image\u001b[0m\u001b[0;34m.\u001b[0m\u001b[0mshape\u001b[0m\u001b[0;34m\u001b[0m\u001b[0;34m\u001b[0m\u001b[0m\n",
      "\u001b[0;32m<ipython-input-5-c1cdbd9a8fde>\u001b[0m in \u001b[0;36mread_CT\u001b[0;34m(path)\u001b[0m\n\u001b[1;32m      7\u001b[0m     \u001b[0;32mfor\u001b[0m \u001b[0ms\u001b[0m \u001b[0;32min\u001b[0m \u001b[0mos\u001b[0m\u001b[0;34m.\u001b[0m\u001b[0mlistdir\u001b[0m\u001b[0;34m(\u001b[0m\u001b[0mpath\u001b[0m\u001b[0;34m)\u001b[0m\u001b[0;34m:\u001b[0m\u001b[0;34m\u001b[0m\u001b[0;34m\u001b[0m\u001b[0m\n\u001b[1;32m      8\u001b[0m         \u001b[0mprint\u001b[0m\u001b[0;34m(\u001b[0m\u001b[0ms\u001b[0m\u001b[0;34m)\u001b[0m\u001b[0;34m\u001b[0m\u001b[0;34m\u001b[0m\u001b[0m\n\u001b[0;32m----> 9\u001b[0;31m     \u001b[0mslices\u001b[0m \u001b[0;34m=\u001b[0m \u001b[0;34m[\u001b[0m\u001b[0mdcm\u001b[0m\u001b[0;34m.\u001b[0m\u001b[0mread_file\u001b[0m\u001b[0;34m(\u001b[0m\u001b[0mpath\u001b[0m \u001b[0;34m+\u001b[0m \u001b[0;34m'/'\u001b[0m \u001b[0;34m+\u001b[0m \u001b[0ms\u001b[0m\u001b[0;34m)\u001b[0m \u001b[0;32mfor\u001b[0m \u001b[0ms\u001b[0m \u001b[0;32min\u001b[0m \u001b[0mos\u001b[0m\u001b[0;34m.\u001b[0m\u001b[0mlistdir\u001b[0m\u001b[0;34m(\u001b[0m\u001b[0mpath\u001b[0m\u001b[0;34m)\u001b[0m\u001b[0;34m]\u001b[0m\u001b[0;34m\u001b[0m\u001b[0;34m\u001b[0m\u001b[0m\n\u001b[0m\u001b[1;32m     10\u001b[0m     \u001b[0;31m#slices = []\u001b[0m\u001b[0;34m\u001b[0m\u001b[0;34m\u001b[0m\u001b[0;34m\u001b[0m\u001b[0m\n\u001b[1;32m     11\u001b[0m     \u001b[0;31m#for file in glob(path + '/*.dcm'):\u001b[0m\u001b[0;34m\u001b[0m\u001b[0;34m\u001b[0m\u001b[0;34m\u001b[0m\u001b[0m\n",
      "\u001b[0;32m<ipython-input-5-c1cdbd9a8fde>\u001b[0m in \u001b[0;36m<listcomp>\u001b[0;34m(.0)\u001b[0m\n\u001b[1;32m      7\u001b[0m     \u001b[0;32mfor\u001b[0m \u001b[0ms\u001b[0m \u001b[0;32min\u001b[0m \u001b[0mos\u001b[0m\u001b[0;34m.\u001b[0m\u001b[0mlistdir\u001b[0m\u001b[0;34m(\u001b[0m\u001b[0mpath\u001b[0m\u001b[0;34m)\u001b[0m\u001b[0;34m:\u001b[0m\u001b[0;34m\u001b[0m\u001b[0;34m\u001b[0m\u001b[0m\n\u001b[1;32m      8\u001b[0m         \u001b[0mprint\u001b[0m\u001b[0;34m(\u001b[0m\u001b[0ms\u001b[0m\u001b[0;34m)\u001b[0m\u001b[0;34m\u001b[0m\u001b[0;34m\u001b[0m\u001b[0m\n\u001b[0;32m----> 9\u001b[0;31m     \u001b[0mslices\u001b[0m \u001b[0;34m=\u001b[0m \u001b[0;34m[\u001b[0m\u001b[0mdcm\u001b[0m\u001b[0;34m.\u001b[0m\u001b[0mread_file\u001b[0m\u001b[0;34m(\u001b[0m\u001b[0mpath\u001b[0m \u001b[0;34m+\u001b[0m \u001b[0;34m'/'\u001b[0m \u001b[0;34m+\u001b[0m \u001b[0ms\u001b[0m\u001b[0;34m)\u001b[0m \u001b[0;32mfor\u001b[0m \u001b[0ms\u001b[0m \u001b[0;32min\u001b[0m \u001b[0mos\u001b[0m\u001b[0;34m.\u001b[0m\u001b[0mlistdir\u001b[0m\u001b[0;34m(\u001b[0m\u001b[0mpath\u001b[0m\u001b[0;34m)\u001b[0m\u001b[0;34m]\u001b[0m\u001b[0;34m\u001b[0m\u001b[0;34m\u001b[0m\u001b[0m\n\u001b[0m\u001b[1;32m     10\u001b[0m     \u001b[0;31m#slices = []\u001b[0m\u001b[0;34m\u001b[0m\u001b[0;34m\u001b[0m\u001b[0;34m\u001b[0m\u001b[0m\n\u001b[1;32m     11\u001b[0m     \u001b[0;31m#for file in glob(path + '/*.dcm'):\u001b[0m\u001b[0;34m\u001b[0m\u001b[0;34m\u001b[0m\u001b[0;34m\u001b[0m\u001b[0m\n",
      "\u001b[0;32m~/.local/lib/python3.6/site-packages/pydicom/filereader.py\u001b[0m in \u001b[0;36mdcmread\u001b[0;34m(fp, defer_size, stop_before_pixels, force, specific_tags)\u001b[0m\n\u001b[1;32m    868\u001b[0m     \u001b[0;32mtry\u001b[0m\u001b[0;34m:\u001b[0m\u001b[0;34m\u001b[0m\u001b[0;34m\u001b[0m\u001b[0m\n\u001b[1;32m    869\u001b[0m         dataset = read_partial(fp, stop_when, defer_size=defer_size,\n\u001b[0;32m--> 870\u001b[0;31m                                force=force, specific_tags=specific_tags)\n\u001b[0m\u001b[1;32m    871\u001b[0m     \u001b[0;32mfinally\u001b[0m\u001b[0;34m:\u001b[0m\u001b[0;34m\u001b[0m\u001b[0;34m\u001b[0m\u001b[0m\n\u001b[1;32m    872\u001b[0m         \u001b[0;32mif\u001b[0m \u001b[0;32mnot\u001b[0m \u001b[0mcaller_owns_file\u001b[0m\u001b[0;34m:\u001b[0m\u001b[0;34m\u001b[0m\u001b[0;34m\u001b[0m\u001b[0m\n",
      "\u001b[0;32m~/.local/lib/python3.6/site-packages/pydicom/filereader.py\u001b[0m in \u001b[0;36mread_partial\u001b[0;34m(fileobj, stop_when, defer_size, force, specific_tags)\u001b[0m\n\u001b[1;32m    665\u001b[0m \u001b[0;34m\u001b[0m\u001b[0m\n\u001b[1;32m    666\u001b[0m     \u001b[0;31m# Read preamble (if present)\u001b[0m\u001b[0;34m\u001b[0m\u001b[0;34m\u001b[0m\u001b[0;34m\u001b[0m\u001b[0m\n\u001b[0;32m--> 667\u001b[0;31m     \u001b[0mpreamble\u001b[0m \u001b[0;34m=\u001b[0m \u001b[0mread_preamble\u001b[0m\u001b[0;34m(\u001b[0m\u001b[0mfileobj\u001b[0m\u001b[0;34m,\u001b[0m \u001b[0mforce\u001b[0m\u001b[0;34m)\u001b[0m\u001b[0;34m\u001b[0m\u001b[0;34m\u001b[0m\u001b[0m\n\u001b[0m\u001b[1;32m    668\u001b[0m     \u001b[0;31m# Read any File Meta Information group (0002,eeee) elements (if present)\u001b[0m\u001b[0;34m\u001b[0m\u001b[0;34m\u001b[0m\u001b[0;34m\u001b[0m\u001b[0m\n\u001b[1;32m    669\u001b[0m     \u001b[0mfile_meta_dataset\u001b[0m \u001b[0;34m=\u001b[0m \u001b[0m_read_file_meta_info\u001b[0m\u001b[0;34m(\u001b[0m\u001b[0mfileobj\u001b[0m\u001b[0;34m)\u001b[0m\u001b[0;34m\u001b[0m\u001b[0;34m\u001b[0m\u001b[0m\n",
      "\u001b[0;32m~/.local/lib/python3.6/site-packages/pydicom/filereader.py\u001b[0m in \u001b[0;36mread_preamble\u001b[0;34m(fp, force)\u001b[0m\n\u001b[1;32m    618\u001b[0m         \u001b[0mfp\u001b[0m\u001b[0;34m.\u001b[0m\u001b[0mseek\u001b[0m\u001b[0;34m(\u001b[0m\u001b[0;36m0\u001b[0m\u001b[0;34m)\u001b[0m\u001b[0;34m\u001b[0m\u001b[0;34m\u001b[0m\u001b[0m\n\u001b[1;32m    619\u001b[0m     \u001b[0;32melif\u001b[0m \u001b[0mmagic\u001b[0m \u001b[0;34m!=\u001b[0m \u001b[0;34mb\"DICM\"\u001b[0m \u001b[0;32mand\u001b[0m \u001b[0;32mnot\u001b[0m \u001b[0mforce\u001b[0m\u001b[0;34m:\u001b[0m\u001b[0;34m\u001b[0m\u001b[0;34m\u001b[0m\u001b[0m\n\u001b[0;32m--> 620\u001b[0;31m         raise InvalidDicomError(\"File is missing DICOM File Meta Information \"\n\u001b[0m\u001b[1;32m    621\u001b[0m                                 \u001b[0;34m\"header or the 'DICM' prefix is missing from \"\u001b[0m\u001b[0;34m\u001b[0m\u001b[0;34m\u001b[0m\u001b[0m\n\u001b[1;32m    622\u001b[0m                                 \"the header. Use force=True to force reading.\")\n",
      "\u001b[0;31mInvalidDicomError\u001b[0m: File is missing DICOM File Meta Information header or the 'DICM' prefix is missing from the header. Use force=True to force reading."
     ]
    }
   ],
   "source": [
    "# subset of anonymized CT dicom sample from https://www.dicomlibrary.com\n",
    "ct_image = read_CT('data/patient_CT_dcm/')\n",
    "ct_image.shape"
   ]
  },
  {
   "cell_type": "code",
   "execution_count": null,
   "metadata": {
    "slideshow": {
     "slide_type": "slide"
    }
   },
   "outputs": [],
   "source": [
    "from ipywidgets import interact\n",
    "import matplotlib.pyplot as plt\n",
    "%matplotlib inline\n",
    "\n",
    "def im_viewer(im,cmap):\n",
    "    def plot_image(myslice):\n",
    "        plt.imshow(im[:,:,myslice], cmap=cmap)\n",
    "    interact(plot_image, myslice=(0, im.shape[2]-1))\n",
    "    return;\n",
    "\n",
    "im_viewer(ct_image, plt.cm.bone)"
   ]
  },
  {
   "cell_type": "markdown",
   "metadata": {
    "slideshow": {
     "slide_type": "slide"
    }
   },
   "source": [
    "# Reading DICOM RT plan"
   ]
  },
  {
   "cell_type": "markdown",
   "metadata": {
    "slideshow": {
     "slide_type": "fragment"
    }
   },
   "source": [
    "#### DICOM input for GATE simulations:\n",
    "* Beam level\n",
    "    * Beam Delivery Type\n",
    "    * Beam Type\n",
    "    * Beam Radiation Type\n",
    "    * Beam Energy\n",
    "    * Beam Fluence Type\n",
    "    * Direction Gantry Rotation\n",
    "    * Direction Collimator Rotation\n",
    "    * Collimator Rotation\n",
    "    * Isocenter Position\n",
    "    * Applicator ID (electron beam)\n",
    "    * Applicator Type (electron beam)\n",
    "    * Source Surface Distance (electron beam)\n",
    "* Control Point Index\n",
    "    * Gantry Angle\n",
    "    * X Jaws Poistions\n",
    "    * Y Jaws Positions\n",
    "    * MLC Positions\n",
    "    * Dose Rate\n",
    "    \n",
    "    \n"
   ]
  },
  {
   "cell_type": "code",
   "execution_count": null,
   "metadata": {
    "slideshow": {
     "slide_type": "slide"
    }
   },
   "outputs": [],
   "source": [
    "import pydicom as dcm\n",
    "\n",
    "plan = dcm.read_file(\"data/patient_RP.dcm\")\n",
    "print(plan)"
   ]
  },
  {
   "cell_type": "code",
   "execution_count": null,
   "metadata": {
    "slideshow": {
     "slide_type": "fragment"
    }
   },
   "outputs": [],
   "source": [
    "for beam in plan.BeamSequence:\n",
    "    print('Beam Name: ', beam.BeamName)\n",
    "    print('Beam Delivery Type: ', beam.BeamType)\n",
    "    print('Beam Radiation Type: ', beam.RadiationType)\n",
    "    print('Beam Energy: ', beam.ControlPointSequence[0].NominalBeamEnergy)\n",
    "    print('Beam Fluence Mode: ', beam.PrimaryFluenceModeSequence[0].FluenceMode)\n",
    "    \n",
    "    for control_index in beam.ControlPointSequence:\n",
    "        print('Control Index: ', control_index.ControlPointIndex)\n",
    "        print('     *Gantry Angle: ', control_index.GantryAngle)\n",
    "        print('     *Dose Rate: ', control_index.ReferencedDoseReferenceSequence[0].CumulativeDoseReferenceCoefficient)\n",
    "        print('     *MLC: ', control_index.BeamLimitingDevicePositionSequence[0].LeafJawPositions) # bug to fix control index 0 MLC vlaues seem wrong"
   ]
  },
  {
   "cell_type": "markdown",
   "metadata": {
    "slideshow": {
     "slide_type": "slide"
    }
   },
   "source": [
    "## Buid a dictionary with beam parameters"
   ]
  },
  {
   "cell_type": "code",
   "execution_count": null,
   "metadata": {
    "slideshow": {
     "slide_type": "fragment"
    }
   },
   "outputs": [],
   "source": [
    "dic_RP = {}\n",
    "dic_RP['Name'] = plan.PatientName\n",
    "dic_RP['ID'] = plan.PatientID\n",
    "dic_RP['Beam'] = {}\n",
    "\n",
    "for beam in plan.BeamSequence:\n",
    "    if beam.TreatmentDeliveryType == 'TREATMENT':\n",
    "        beam_name=beam.BeamName\n",
    "        dic_RP['Beam'][beam_name] = {}\n",
    "        dic_RP['Beam'][beam_name]['Type'] = beam.BeamType\n",
    "        dic_RP['Beam'][beam_name]['RadiationType'] = beam.RadiationType\n",
    "        dic_RP['Beam'][beam_name]['Energy'] = beam.ControlPointSequence[0].NominalBeamEnergy\n",
    "        dic_RP['Beam'][beam_name]['ControlPointSequence'] = {}\n",
    "        dic_RP['Beam'][beam_name]['ControlPointSequence']['GantryAngle'] = round(float(beam.ControlPointSequence[0].GantryAngle), 3)\n",
    "        dic_RP['Beam'][beam_name]['ControlPointSequence']['DoseRate'] = round(float(beam.ControlPointSequence[0].ReferencedDoseReferenceSequence[0].CumulativeDoseReferenceCoefficient), 3)\n",
    "        dic_RP['Beam'][beam_name]['ControlPointSequence']['X jaws'] = [float(val) for val in beam.ControlPointSequence[0].BeamLimitingDevicePositionSequence[0].LeafJawPositions]\n",
    "        dic_RP['Beam'][beam_name]['ControlPointSequence']['Y jaws'] = [float(val) for val in beam.ControlPointSequence[0].BeamLimitingDevicePositionSequence[1].LeafJawPositions]\n",
    "        dic_RP['Beam'][beam_name]['ControlPointSequence']['MLC'] = [float(val) for val in beam.ControlPointSequence[0].BeamLimitingDevicePositionSequence[2].LeafJawPositions]\n",
    "          \n",
    "dic_RP"
   ]
  },
  {
   "cell_type": "code",
   "execution_count": null,
   "metadata": {},
   "outputs": [],
   "source": []
  }
 ],
 "metadata": {
  "celltoolbar": "Slideshow",
  "kernelspec": {
   "display_name": "Python 3",
   "language": "python",
   "name": "python3"
  },
  "language_info": {
   "codemirror_mode": {
    "name": "ipython",
    "version": 3
   },
   "file_extension": ".py",
   "mimetype": "text/x-python",
   "name": "python",
   "nbconvert_exporter": "python",
   "pygments_lexer": "ipython3",
   "version": "3.6.9"
  }
 },
 "nbformat": 4,
 "nbformat_minor": 2
}
