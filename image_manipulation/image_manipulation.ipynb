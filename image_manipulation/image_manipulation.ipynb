{
 "cells": [
  {
   "cell_type": "markdown",
   "metadata": {
    "colab_type": "text",
    "id": "YbLhCWIrvfXe",
    "slideshow": {
     "slide_type": "slide"
    }
   },
   "source": [
    "# Image manipulation for GATE"
   ]
  },
  {
   "cell_type": "markdown",
   "metadata": {
    "slideshow": {
     "slide_type": "fragment"
    }
   },
   "source": [
    "## Contents:\n",
    "* Reading images\n",
    "* Merging images\n",
    "* Dicom image to mhd\n",
    "* Anonymising Dicom files"
   ]
  },
  {
   "cell_type": "markdown",
   "metadata": {
    "slideshow": {
     "slide_type": "slide"
    }
   },
   "source": [
    "# Reading images"
   ]
  },
  {
   "cell_type": "markdown",
   "metadata": {
    "slideshow": {
     "slide_type": "subslide"
    }
   },
   "source": [
    "## Reading any binary image\n",
    "PET mouse data from https://neuroimage.usc.edu/neuro/Digimouse_Download in Analyze (.hdr / .img) format."
   ]
  },
  {
   "cell_type": "code",
   "execution_count": null,
   "metadata": {
    "slideshow": {
     "slide_type": "fragment"
    }
   },
   "outputs": [],
   "source": [
    "import numpy as np\n",
    "\n",
    "file = 'data/mouse_PET.img'\n",
    "data_type = np.float32\n",
    "dimension = [128, 128, 129]\n",
    "\n",
    "# read the binary file\n",
    "image = np.fromfile(file, dtype=data_type)\n",
    "image = image.reshape(dimension,order='F')"
   ]
  },
  {
   "cell_type": "code",
   "execution_count": null,
   "metadata": {
    "slideshow": {
     "slide_type": "fragment"
    }
   },
   "outputs": [],
   "source": [
    "print('image.min() =', image.min())\n",
    "print('image.max() =', image.max())\n",
    "print('image.shape :', image.shape)"
   ]
  },
  {
   "cell_type": "code",
   "execution_count": null,
   "metadata": {
    "slideshow": {
     "slide_type": "fragment"
    }
   },
   "outputs": [],
   "source": [
    "import matplotlib.pyplot as plt\n",
    "%matplotlib inline\n",
    "\n",
    "plt.imshow(image[63,:,:], cmap=plt.cm.jet)"
   ]
  },
  {
   "cell_type": "code",
   "execution_count": null,
   "metadata": {
    "scrolled": true,
    "slideshow": {
     "slide_type": "slide"
    }
   },
   "outputs": [],
   "source": [
    "from ipywidgets import interact\n",
    "\n",
    "def im_viewer(im,cmap):\n",
    "    def plot_image(myslice):\n",
    "        plt.imshow(im[myslice,:,:], cmap=cmap)\n",
    "    interact(plot_image, myslice=(0, im.shape[0]-1))\n",
    "    return;\n",
    "\n",
    "im_viewer(image, plt.cm.jet)"
   ]
  },
  {
   "cell_type": "markdown",
   "metadata": {
    "slideshow": {
     "slide_type": "slide"
    }
   },
   "source": [
    "## Reading Meta images (.mhd / .raw)\n",
    "Easy image reading with the library SimpleITK"
   ]
  },
  {
   "cell_type": "code",
   "execution_count": 2,
   "metadata": {
    "slideshow": {
     "slide_type": "fragment"
    }
   },
   "outputs": [],
   "source": [
    "import SimpleITK as sitk\n",
    "\n",
    "# 1) Read the image\n",
    "itkimage = sitk.ReadImage('data/patient_CT.mhd')\n",
    "image = sitk.GetArrayFromImage(itkimage)"
   ]
  },
  {
   "cell_type": "code",
   "execution_count": null,
   "metadata": {
    "slideshow": {
     "slide_type": "fragment"
    }
   },
   "outputs": [],
   "source": [
    "print ('itkimage.GetSize() :' , itkimage.GetSize())\n",
    "print ('itkimage.GetSpacing() :' , itkimage.GetSpacing())\n",
    "\n",
    "print('image.sum() =', image.sum())\n",
    "print('image.min() =', image.min())\n",
    "print('image.max() =', image.max())\n",
    "print('image.shape :', image.shape)"
   ]
  },
  {
   "cell_type": "code",
   "execution_count": null,
   "metadata": {
    "slideshow": {
     "slide_type": "fragment"
    }
   },
   "outputs": [],
   "source": [
    "import matplotlib.pyplot as plt\n",
    "%matplotlib inline\n",
    "\n",
    "plt.imshow(image[140,:,:], cmap=plt.cm.bone)"
   ]
  },
  {
   "cell_type": "markdown",
   "metadata": {
    "slideshow": {
     "slide_type": "slide"
    }
   },
   "source": [
    "## Exercise\n",
    "* modify the image data so that the slices correspond to the last dimension\n",
    "* save the modified image"
   ]
  },
  {
   "cell_type": "code",
   "execution_count": null,
   "metadata": {
    "slideshow": {
     "slide_type": "fragment"
    }
   },
   "outputs": [],
   "source": [
    "# complete here ..."
   ]
  },
  {
   "cell_type": "code",
   "execution_count": null,
   "metadata": {},
   "outputs": [],
   "source": [
    "# image = image[::-1,:,:]\n",
    "# output = sitk.GetImageFromArray(image)\n",
    "# # sitk.WriteImage(output,workdir+'patient_CT.mhd')\n",
    "# sitk.WriteImage(output,workdir+'patient_SPECT.mhd')"
   ]
  },
  {
   "cell_type": "markdown",
   "metadata": {
    "slideshow": {
     "slide_type": "slide"
    }
   },
   "source": [
    "# Merging images"
   ]
  },
  {
   "cell_type": "markdown",
   "metadata": {
    "slideshow": {
     "slide_type": "fragment"
    }
   },
   "source": [
    "## Merge output DoseActor .mhd of splitted simulations"
   ]
  },
  {
   "cell_type": "code",
   "execution_count": null,
   "metadata": {
    "slideshow": {
     "slide_type": "fragment"
    }
   },
   "outputs": [],
   "source": [
    "import SimpleITK as sitk\n",
    "from glob import glob\n",
    "\n",
    "# directory of your simulation splitted outputs\n",
    "output_dir = './'\n",
    "\n",
    "# loop over the .mhd outputs\n",
    "first_image = True\n",
    "for file in glob(output_dir+'*Dose.mhd'):\n",
    "#    if '_merged' not in file:\n",
    "        print ('Reading file:',file)\n",
    "        # 1) Read the image\n",
    "        itkimage = sitk.ReadImage(file)\n",
    "        # 2) Sum the image values\n",
    "        if first_image:\n",
    "            image_merged = sitk.GetArrayFromImage(itkimage)\n",
    "            first_image = False\n",
    "        else: \n",
    "            image_merged += sitk.GetArrayFromImage(itkimage)\n",
    "        #print ('Sum of all voxels:',image_merged.max())\n",
    "\n",
    "# 3) Write the sum of all images\n",
    "itkimage_merged = sitk.GetImageFromArray(image_merged)\n",
    "itkimage_merged.CopyInformation(itkimage)\n",
    "sitk.WriteImage(itkimage_merged, output_dir+'output-Dose_merged.mhd')\n",
    "\n",
    "print ('Merged file created:', output_dir+'output-Dose_merged.mhd')\n",
    "print ('Dimension : ' , itkimage_merged.GetSize())\n",
    "print ('Pixels Size :' , itkimage_merged.GetSpacing())"
   ]
  },
  {
   "cell_type": "markdown",
   "metadata": {
    "colab_type": "text",
    "id": "2k-6llpovfXq",
    "slideshow": {
     "slide_type": "slide"
    }
   },
   "source": [
    "# Converting DICOM to MetaImage (.mhd/.raw)\n",
    "* place your DICOM images (.dcm) in the folder convert/dicom \n",
    "* execute the cell below\n",
    "\n",
    "It will convert your DICOM series into MetaImage files in the folder convert/mhd"
   ]
  },
  {
   "cell_type": "code",
   "execution_count": null,
   "metadata": {
    "slideshow": {
     "slide_type": "fragment"
    }
   },
   "outputs": [],
   "source": [
    "import SimpleITK as sitk\n",
    "\n",
    "dirname = 'convert/dicom'\n",
    "\n",
    "series_IDs = sitk.ImageSeriesReader_GetGDCMSeriesIDs(dirname)\n",
    "\n",
    "if not series_IDs:\n",
    "    print('No series in directory ' + dirname + '\\'')\n",
    "\n",
    "for series in series_IDs:\n",
    "    filename = series.split('.')[-1]\n",
    "    sitk.WriteImage(sitk.ReadImage(sitk.ImageSeriesReader_GetGDCMSeriesFileNames(dirname, series)),\n",
    "                    'mhd/'+filename+'.mhd')"
   ]
  }
 ],
 "metadata": {
  "celltoolbar": "Slideshow",
  "colab": {
   "collapsed_sections": [
    "2gM213d7vfcO",
    "8ofSBMSXvfck",
    "itCLYGF2vfdA",
    "TQ3VBCCcvfdc",
    "XbL8L2lzvfee",
    "1luSBZkQvff2",
    "aQhTfRhHvff2"
   ],
   "default_view": {},
   "name": "PythonCourse.ipynb",
   "provenance": [],
   "toc_visible": true,
   "version": "0.3.2",
   "views": {}
  },
  "kernelspec": {
   "display_name": "Python 3",
   "language": "python",
   "name": "python3"
  },
  "language_info": {
   "codemirror_mode": {
    "name": "ipython",
    "version": 3
   },
   "file_extension": ".py",
   "mimetype": "text/x-python",
   "name": "python",
   "nbconvert_exporter": "python",
   "pygments_lexer": "ipython3",
   "version": "3.6.9"
  }
 },
 "nbformat": 4,
 "nbformat_minor": 1
}
