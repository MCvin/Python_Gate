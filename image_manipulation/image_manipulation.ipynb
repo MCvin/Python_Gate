{
 "cells": [
  {
   "cell_type": "markdown",
   "metadata": {
    "colab_type": "text",
    "id": "YbLhCWIrvfXe",
    "slideshow": {
     "slide_type": "slide"
    }
   },
   "source": [
    "# Image manipulation for GATE"
   ]
  },
  {
   "cell_type": "markdown",
   "metadata": {
    "slideshow": {
     "slide_type": "subslide"
    }
   },
   "source": [
    "## Contents:\n",
    "* Merging mhd images\n",
    "* Dicom image to mhd\n",
    "* Anonymising Dicom files"
   ]
  },
  {
   "cell_type": "markdown",
   "metadata": {
    "slideshow": {
     "slide_type": "slide"
    }
   },
   "source": [
    "# Merging mhd images"
   ]
  },
  {
   "cell_type": "code",
   "execution_count": null,
   "metadata": {
    "slideshow": {
     "slide_type": "fragment"
    }
   },
   "outputs": [],
   "source": []
  },
  {
   "cell_type": "markdown",
   "metadata": {
    "colab_type": "text",
    "id": "2k-6llpovfXq",
    "slideshow": {
     "slide_type": "slide"
    }
   },
   "source": [
    "# Convertir du Dicom en mhd/raw\n",
    "### A utiliser pour créer un CT utilisable dans GATE\n",
    "Copier vos images CT en format DICOM (.dcm) dans le dossier dicom\n",
    "Executer la cellule ci dessous.\n",
    "Le fichier .mhd (et .raw) est créé dans le dossier mhd/\n"
   ]
  },
  {
   "cell_type": "code",
   "execution_count": 18,
   "metadata": {
    "slideshow": {
     "slide_type": "fragment"
    }
   },
   "outputs": [],
   "source": [
    "import SimpleITK as sitk\n",
    "\n",
    "dirname = 'dicom'\n",
    "\n",
    "series_IDs = sitk.ImageSeriesReader_GetGDCMSeriesIDs(dirname)\n",
    "\n",
    "if not series_IDs:\n",
    "    print('No series in directory ' + dirname + '\\'')\n",
    "\n",
    "for series in series_IDs:\n",
    "    filename = series.split('.')[-1]\n",
    "    sitk.WriteImage(sitk.ReadImage(sitk.ImageSeriesReader_GetGDCMSeriesFileNames(dirname, series)),\n",
    "                    'mhd/'+filename+'.mhd')"
   ]
  },
  {
   "cell_type": "markdown",
   "metadata": {
    "slideshow": {
     "slide_type": "slide"
    }
   },
   "source": [
    "# Anonymising Dicom files"
   ]
  },
  {
   "cell_type": "code",
   "execution_count": null,
   "metadata": {},
   "outputs": [],
   "source": []
  }
 ],
 "metadata": {
  "celltoolbar": "Slideshow",
  "colab": {
   "collapsed_sections": [
    "2gM213d7vfcO",
    "8ofSBMSXvfck",
    "itCLYGF2vfdA",
    "TQ3VBCCcvfdc",
    "XbL8L2lzvfee",
    "1luSBZkQvff2",
    "aQhTfRhHvff2"
   ],
   "default_view": {},
   "name": "PythonCourse.ipynb",
   "provenance": [],
   "toc_visible": true,
   "version": "0.3.2",
   "views": {}
  },
  "kernelspec": {
   "display_name": "Python 2",
   "language": "python",
   "name": "python2"
  },
  "language_info": {
   "codemirror_mode": {
    "name": "ipython",
    "version": 3
   },
   "file_extension": ".py",
   "mimetype": "text/x-python",
   "name": "python",
   "nbconvert_exporter": "python",
   "pygments_lexer": "ipython3",
   "version": "3.6.9"
  }
 },
 "nbformat": 4,
 "nbformat_minor": 1
}
