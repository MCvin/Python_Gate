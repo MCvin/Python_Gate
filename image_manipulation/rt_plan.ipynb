{
 "cells": [
  {
   "cell_type": "markdown",
   "metadata": {},
   "source": [
    "### DICOM RT plan for GATE"
   ]
  },
  {
   "cell_type": "code",
   "execution_count": 1,
   "metadata": {},
   "outputs": [],
   "source": [
    "import pydicom as dcm"
   ]
  },
  {
   "cell_type": "markdown",
   "metadata": {},
   "source": [
    "#### DICOM doc\n",
    "#### https://dicom.innolitics.com/ciods/"
   ]
  },
  {
   "cell_type": "markdown",
   "metadata": {},
   "source": [
    "#### DICOM input for \n",
    "* Beam level\n",
    "    * Beam Delivery Type\n",
    "    * Beam Type\n",
    "    * Beam Radiation Type\n",
    "    * Beam Energy\n",
    "    * Beam Fluence Type\n",
    "    * Direction Gantry Rotation\n",
    "    * Direction Collimator Rotation\n",
    "    * Collimator Rotation\n",
    "    * Isocenter Position\n",
    "    * Applicator ID (electron beam)\n",
    "    * Applicator Type (electron beam)\n",
    "    * Source Surface Distance (electron beam)\n",
    "* Control Point Index\n",
    "    * Gantry Angle\n",
    "    * X Jaws Poistions\n",
    "    * Y Jaws Positions\n",
    "    * MLC Positions\n",
    "    * Dose Rate\n",
    "    \n",
    "    \n"
   ]
  },
  {
   "cell_type": "code",
   "execution_count": null,
   "metadata": {},
   "outputs": [],
   "source": [
    "plan = dcm.read_file(\"data/patient_RP.dcm\")\n",
    "#print(plan)\n",
    "print('Patient Name: ', plan.PatientName)"
   ]
  },
  {
   "cell_type": "code",
   "execution_count": null,
   "metadata": {},
   "outputs": [],
   "source": [
    "for beam in plan.BeamSequence:\n",
    "    print('Beam Name: ', beam.BeamName)\n",
    "    print('Beam Delivery Type: ', beam.BeamType)\n",
    "    print('Beam Radiation Type: ', beam.RadiationType)\n",
    "    print('Beam Energy: ', beam.ControlPointSequence[0].NominalBeamEnergy)\n",
    "    print('Beam Fluence Mode: ', beam.PrimaryFluenceModeSequence[0].FluenceMode)\n",
    "    \n",
    "    for control_index in beam.ControlPointSequence:\n",
    "        print('Control Index: ', control_index.ControlPointIndex)\n",
    "        print('     *Gantry Angle: ', control_index.GantryAngle)\n",
    "        print('     *Dose Rate: ', control_index.ReferencedDoseReferenceSequence[0].CumulativeDoseReferenceCoefficient)\n",
    "        print('     *MLC: ', control_index.BeamLimitingDevicePositionSequence[0].LeafJawPositions) # bug to fix control index 0 MLC vlaues seem wrong"
   ]
  },
  {
   "cell_type": "markdown",
   "metadata": {},
   "source": [
    "#### buid a dictionary"
   ]
  },
  {
   "cell_type": "code",
   "execution_count": null,
   "metadata": {},
   "outputs": [],
   "source": [
    "my_dic = {}\n",
    "my_dic['Name'] = plan.PatientName\n",
    "my_dic['ID'] = plan.PatientID\n",
    "\n",
    "my_dic['Beam'] = {}\n",
    "\n",
    "for beam in plan.BeamSequence:\n",
    "    if beam.TreatmentDeliveryType == 'TREATMENT':\n",
    "        beam_name=beam.BeamName\n",
    "        my_dic['Beam'][beam_name] = {}\n",
    "        my_dic['Beam'][beam_name]['Type'] = beam.BeamType\n",
    "        my_dic['Beam'][beam_name]['RadiationType'] = beam.RadiationType\n",
    "        my_dic['Beam'][beam_name]['Energy'] = beam.ControlPointSequence[0].NominalBeamEnergy\n",
    "        my_dic['Beam'][beam_name]['ControlPointSequence'] = {}\n",
    "        my_dic['Beam'][beam_name]['ControlPointSequence']['GantryAngle'] = round(float(beam.ControlPointSequence[0].GantryAngle), 3)\n",
    "        my_dic['Beam'][beam_name]['ControlPointSequence']['DoseRate'] = round(float(beam.ControlPointSequence[0].ReferencedDoseReferenceSequence[0].CumulativeDoseReferenceCoefficient), 3)\n",
    "        my_dic['Beam'][beam_name]['ControlPointSequence']['X jaws'] = [float(val) for val in beam.ControlPointSequence[0].BeamLimitingDevicePositionSequence[0].LeafJawPositions]\n",
    "        my_dic['Beam'][beam_name]['ControlPointSequence']['Y jaws'] = [float(val) for val in beam.ControlPointSequence[0].BeamLimitingDevicePositionSequence[1].LeafJawPositions]\n",
    "        my_dic['Beam'][beam_name]['ControlPointSequence']['MLC'] = [float(val) for val in beam.ControlPointSequence[0].BeamLimitingDevicePositionSequence[2].LeafJawPositions]\n",
    "          \n",
    "my_dic"
   ]
  }
 ],
 "metadata": {
  "kernelspec": {
   "display_name": "Python 3",
   "language": "python",
   "name": "python3"
  },
  "language_info": {
   "codemirror_mode": {
    "name": "ipython",
    "version": 3
   },
   "file_extension": ".py",
   "mimetype": "text/x-python",
   "name": "python",
   "nbconvert_exporter": "python",
   "pygments_lexer": "ipython3",
   "version": "3.6.9"
  }
 },
 "nbformat": 4,
 "nbformat_minor": 2
}
