{
 "cells": [
  {
   "cell_type": "markdown",
   "metadata": {},
   "source": [
    "# Exercice : dose map analysis"
   ]
  },
  {
   "cell_type": "markdown",
   "metadata": {},
   "source": [
    "## Initialisation\n",
    "\n",
    "Import modules. \n",
    "- matplotlib for plot\n",
    "- numpy for matrix/vector numerical computation\n",
    "- SimpleITK for image manipulation\n",
    "- interact for slider"
   ]
  },
  {
   "cell_type": "markdown",
   "metadata": {},
   "source": [
    "http://insightsoftwareconsortium.github.io/SimpleITK-Notebooks/"
   ]
  },
  {
   "cell_type": "code",
   "execution_count": 1,
   "metadata": {},
   "outputs": [],
   "source": [
    "%matplotlib inline\n",
    "import matplotlib.pyplot as plt\n",
    "import numpy as np\n",
    "import SimpleITK as sitk\n",
    "from ipywidgets import interact\n",
    "# to enable interactive widgets in jupyter notebook run this command in a terminal:\n",
    "#jupyter nbextension enable --py widgetsnbextension"
   ]
  },
  {
   "cell_type": "code",
   "execution_count": 2,
   "metadata": {},
   "outputs": [
    {
     "name": "stdout",
     "output_type": "stream",
     "text": [
      "Image size:  (110, 110, 220)\n",
      "Image spacing:  (4.42, 4.42, 4.42)\n",
      "Image origin:  (0.0, 0.0, 0.0)\n"
     ]
    }
   ],
   "source": [
    "# Read a sitk image\n",
    "img_ct = sitk.ReadImage('../data/patient_CT.mhd')\n",
    "print('Image size: ', img_ct.GetSize())\n",
    "print('Image spacing: ', img_ct.GetSpacing())\n",
    "print('Image origin: ', img_ct.GetOrigin())"
   ]
  },
  {
   "cell_type": "code",
   "execution_count": 3,
   "metadata": {},
   "outputs": [
    {
     "name": "stdout",
     "output_type": "stream",
     "text": [
      "Array size:  (220, 110, 110)  <--- be careful to the dimension order!)\n"
     ]
    }
   ],
   "source": [
    "# Convert sitk image to a numpy array\n",
    "arr_ct = sitk.GetArrayFromImage(img_ct)\n",
    "print('Array size: ', arr_ct.shape, ' <--- be careful to the dimension order!)')"
   ]
  },
  {
   "cell_type": "code",
   "execution_count": 4,
   "metadata": {},
   "outputs": [
    {
     "data": {
      "application/vnd.jupyter.widget-view+json": {
       "model_id": "d91fa2aedfaa4a9b8ce1178ddcb94f1d",
       "version_major": 2,
       "version_minor": 0
      },
      "text/plain": [
       "interactive(children=(IntSlider(value=55, description='sx', max=110), IntSlider(value=55, description='sy', ma…"
      ]
     },
     "metadata": {},
     "output_type": "display_data"
    }
   ],
   "source": [
    "def show_ct(sx,sy,sz):\n",
    "    fig, ax = plt.subplots(1,3, figsize=(10, 5))\n",
    "    ax[0].imshow(arr_ct[sz,:,:], cmap=plt.cm.gray)\n",
    "    ax[1].imshow(arr_ct[:,sx,:], cmap=plt.cm.gray)\n",
    "    ax[2].imshow(arr_ct[:,:,sy], cmap=plt.cm.gray)\n",
    "    \n",
    "interact(show_ct, sx=(0,img_ct.GetSize()[0]), sy=(0,img_ct.GetSize()[1]), sz=(0,img_ct.GetSize()[2]));"
   ]
  },
  {
   "cell_type": "code",
   "execution_count": 5,
   "metadata": {},
   "outputs": [
    {
     "name": "stdout",
     "output_type": "stream",
     "text": [
      "Image size =  (220, 110, 110)\n",
      "Image min and max:  0.0 3.4056504e-09\n"
     ]
    }
   ],
   "source": [
    "img_dose = sitk.ReadImage('../output/out-Dose.mhd')\n",
    "arr_dose = sitk.GetArrayFromImage(img_dose)\n",
    "print('Image size = ', arr_dose.shape)\n",
    "print('Image min and max: ',  np.amin(arr_dose), np.amax(arr_dose))"
   ]
  },
  {
   "cell_type": "code",
   "execution_count": 6,
   "metadata": {},
   "outputs": [],
   "source": [
    "filter = sitk.RescaleIntensityImageFilter()\n",
    "filter.SetOutputMaximum(1.0)\n",
    "filter.SetOutputMinimum(0.0)\n",
    "img_dose = filter.Execute(img_dose)"
   ]
  },
  {
   "cell_type": "code",
   "execution_count": 7,
   "metadata": {},
   "outputs": [
    {
     "name": "stdout",
     "output_type": "stream",
     "text": [
      "Image size =  (220, 110, 110)\n",
      "Image min and max:  0.0 0.0\n"
     ]
    }
   ],
   "source": [
    "arr_dose = sitk.GetArrayFromImage(img_dose)\n",
    "print('Image size = ', arr_dose.shape)\n",
    "print('Image min and max: ',  np.amin(arr_dose), np.amax(arr_dose))"
   ]
  },
  {
   "cell_type": "code",
   "execution_count": 8,
   "metadata": {},
   "outputs": [
    {
     "data": {
      "application/vnd.jupyter.widget-view+json": {
       "model_id": "af9a2d0b22ca423aa666a6b2d1415d51",
       "version_major": 2,
       "version_minor": 0
      },
      "text/plain": [
       "interactive(children=(IntSlider(value=110, description='nslice', max=220), Output()), _dom_classes=('widget-in…"
      ]
     },
     "metadata": {},
     "output_type": "display_data"
    }
   ],
   "source": [
    "def show_dose(nslice):\n",
    "    plt.imshow(arr_dose[nslice,:,:], cmap=plt.cm.gray)\n",
    "    plt.colorbar()\n",
    "    \n",
    "interact(show_dose, nslice=(0,len(arr_dose)));"
   ]
  },
  {
   "cell_type": "code",
   "execution_count": 9,
   "metadata": {},
   "outputs": [],
   "source": [
    "img_resampled_dose = sitk.Resample(img_dose, img_ct, sitk.Transform(), sitk.sitkLinear, 0)"
   ]
  },
  {
   "cell_type": "code",
   "execution_count": 10,
   "metadata": {},
   "outputs": [
    {
     "name": "stdout",
     "output_type": "stream",
     "text": [
      "Image size =  (220, 110, 110)\n",
      "Image min and max:  0.0 0.0\n"
     ]
    }
   ],
   "source": [
    "arr_resampled_dose = sitk.GetArrayFromImage(img_resampled_dose)\n",
    "print('Image size = ', arr_resampled_dose.shape)\n",
    "print('Image min and max: ',  np.amin(arr_resampled_dose), np.amax(arr_resampled_dose))"
   ]
  },
  {
   "cell_type": "code",
   "execution_count": 11,
   "metadata": {},
   "outputs": [
    {
     "data": {
      "application/vnd.jupyter.widget-view+json": {
       "model_id": "19ea7880abd4441cbacd0666814b5e24",
       "version_major": 2,
       "version_minor": 0
      },
      "text/plain": [
       "interactive(children=(IntSlider(value=50, description='nslice', max=220), FloatSlider(value=0.7, description='…"
      ]
     },
     "metadata": {},
     "output_type": "display_data"
    }
   ],
   "source": [
    "def show_fusion(nslice=50, opacity=0.7):\n",
    "    plt.imshow(arr_ct[:,:,nslice], cmap=plt.cm.gray)\n",
    "    a = arr_resampled_dose[:,:,nslice]\n",
    "    b = np.ma.masked_where(a <= 0.001, a)\n",
    "    plt.imshow(b, alpha=opacity, cmap=plt.cm.hot)\n",
    "    plt.colorbar()\n",
    "    \n",
    "interact(show_fusion, nslice=(0,len(arr_ct)), opacity=(0,1,0.1));"
   ]
  },
  {
   "cell_type": "markdown",
   "metadata": {},
   "source": [
    "Questions:\n",
    "- plot a depth dose profile\n",
    "- display uncertainty map\n",
    "- create another simulation with a different beam angle, merge the two dose maps \n"
   ]
  },
  {
   "cell_type": "code",
   "execution_count": null,
   "metadata": {},
   "outputs": [],
   "source": []
  }
 ],
 "metadata": {
  "kernelspec": {
   "display_name": "Python 2",
   "language": "python",
   "name": "python2"
  },
  "language_info": {
   "codemirror_mode": {
    "name": "ipython",
    "version": 3
   },
   "file_extension": ".py",
   "mimetype": "text/x-python",
   "name": "python",
   "nbconvert_exporter": "python",
   "pygments_lexer": "ipython3",
   "version": "3.6.9"
  }
 },
 "nbformat": 4,
 "nbformat_minor": 2
}
