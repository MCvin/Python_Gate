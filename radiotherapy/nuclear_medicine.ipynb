{
 "cells": [
  {
   "cell_type": "markdown",
   "metadata": {
    "slideshow": {
     "slide_type": "slide"
    }
   },
   "source": [
    "# Python Data Analysis for Internal Radiotherapy Applications"
   ]
  },
  {
   "cell_type": "markdown",
   "metadata": {
    "slideshow": {
     "slide_type": "fragment"
    }
   },
   "source": [
    "## Contents:\n",
    "* CT visualisation\n",
    "* Dose map rescaling\n",
    "* Dose map resampling\n",
    "* CT and Dose map overlay\n",
    "* Dosimetry"
   ]
  },
  {
   "cell_type": "markdown",
   "metadata": {},
   "source": [
    "http://insightsoftwareconsortium.github.io/SimpleITK-Notebooks/"
   ]
  },
  {
   "cell_type": "markdown",
   "metadata": {
    "slideshow": {
     "slide_type": "slide"
    }
   },
   "source": [
    "# Exercice : dose map analysis"
   ]
  },
  {
   "cell_type": "code",
   "execution_count": 1,
   "metadata": {
    "slideshow": {
     "slide_type": "fragment"
    }
   },
   "outputs": [
    {
     "name": "stdout",
     "output_type": "stream",
     "text": [
      "Image size:  (110, 110, 220)\n",
      "Image spacing:  (4.42, 4.42, 4.42)\n",
      "Image origin:  (0.0, 0.0, 0.0)\n"
     ]
    }
   ],
   "source": [
    "import SimpleITK as sitk\n",
    "\n",
    "# Read a sitk image\n",
    "img_ct = sitk.ReadImage('Ex_InternalRT/data/patient_CT.mhd')\n",
    "print('Image size: ', img_ct.GetSize())\n",
    "print('Image spacing: ', img_ct.GetSpacing())\n",
    "print('Image origin: ', img_ct.GetOrigin())"
   ]
  },
  {
   "cell_type": "code",
   "execution_count": 2,
   "metadata": {
    "slideshow": {
     "slide_type": "fragment"
    }
   },
   "outputs": [
    {
     "name": "stdout",
     "output_type": "stream",
     "text": [
      "Array size:  (220, 110, 110)  <--- be careful to the dimension order!)\n"
     ]
    }
   ],
   "source": [
    "# Convert sitk image to a numpy array\n",
    "arr_ct = sitk.GetArrayFromImage(img_ct)\n",
    "print('Array size: ', arr_ct.shape, ' <--- be careful to the dimension order!)')"
   ]
  },
  {
   "cell_type": "code",
   "execution_count": 3,
   "metadata": {
    "slideshow": {
     "slide_type": "subslide"
    }
   },
   "outputs": [
    {
     "data": {
      "application/vnd.jupyter.widget-view+json": {
       "model_id": "2e3cf3f6b5db44b8a225f777675b0634",
       "version_major": 2,
       "version_minor": 0
      },
      "text/plain": [
       "interactive(children=(IntSlider(value=109, description='sx', max=219), IntSlider(value=54, description='sy', m…"
      ]
     },
     "metadata": {},
     "output_type": "display_data"
    }
   ],
   "source": [
    "import matplotlib.pyplot as plt\n",
    "%matplotlib inline\n",
    "from ipywidgets import interact\n",
    "# to enable interactive widgets in jupyter notebook run this command in a terminal:\n",
    "#jupyter nbextension enable --py widgetsnbextension\n",
    "\n",
    "def show_ct(sx,sy,sz):\n",
    "    fig, ax = plt.subplots(1,3, figsize=(10, 5))\n",
    "    ax[0].imshow(arr_ct[sx,:,:], cmap=plt.cm.gray)\n",
    "    ax[1].imshow(arr_ct[:,sy,:], origin='lower', cmap=plt.cm.gray)\n",
    "    ax[2].imshow(arr_ct[:,:,sz], origin='lower', cmap=plt.cm.gray)\n",
    "    \n",
    "interact(show_ct, sx=(0,arr_ct.shape[0]-1), sy=(0,arr_ct.shape[1]-1), sz=(0,arr_ct.shape[2]-1));"
   ]
  },
  {
   "cell_type": "markdown",
   "metadata": {
    "slideshow": {
     "slide_type": "subslide"
    }
   },
   "source": [
    "# Run the GATE example and analyse the output\n",
    "## some high statistic results with 1e6 particles are available in results/"
   ]
  },
  {
   "cell_type": "code",
   "execution_count": 4,
   "metadata": {
    "slideshow": {
     "slide_type": "fragment"
    }
   },
   "outputs": [
    {
     "name": "stdout",
     "output_type": "stream",
     "text": [
      "Image size =  (220, 110, 110)\n",
      "Image min and max:  0.0 1.0577816e-07\n"
     ]
    }
   ],
   "source": [
    "import SimpleITK as sitk\n",
    "import numpy as np\n",
    "\n",
    "img_dose = sitk.ReadImage('Ex_InternalRT/results/out-Dose.mhd')\n",
    "arr_dose = sitk.GetArrayFromImage(img_dose)\n",
    "print('Image size = ', arr_dose.shape)\n",
    "print('Image min and max: ',  np.amin(arr_dose), np.amax(arr_dose))"
   ]
  },
  {
   "cell_type": "code",
   "execution_count": 5,
   "metadata": {
    "slideshow": {
     "slide_type": "fragment"
    }
   },
   "outputs": [],
   "source": [
    "filter = sitk.RescaleIntensityImageFilter()\n",
    "filter.SetOutputMaximum(1.0)\n",
    "filter.SetOutputMinimum(0.0)\n",
    "img_dose = filter.Execute(img_dose)"
   ]
  },
  {
   "cell_type": "code",
   "execution_count": 6,
   "metadata": {
    "slideshow": {
     "slide_type": "fragment"
    }
   },
   "outputs": [
    {
     "name": "stdout",
     "output_type": "stream",
     "text": [
      "Image size =  (220, 110, 110)\n",
      "Image min and max:  0.0 1.0\n"
     ]
    }
   ],
   "source": [
    "arr_dose = sitk.GetArrayFromImage(img_dose)\n",
    "print('Image size = ', arr_dose.shape)\n",
    "print('Image min and max: ',  np.amin(arr_dose), np.amax(arr_dose))"
   ]
  },
  {
   "cell_type": "code",
   "execution_count": 7,
   "metadata": {
    "slideshow": {
     "slide_type": "subslide"
    }
   },
   "outputs": [
    {
     "data": {
      "application/vnd.jupyter.widget-view+json": {
       "model_id": "5b7d03fbf0074cd6ad08d348019eef7f",
       "version_major": 2,
       "version_minor": 0
      },
      "text/plain": [
       "interactive(children=(IntSlider(value=109, description='nslice', max=219), Output()), _dom_classes=('widget-in…"
      ]
     },
     "metadata": {},
     "output_type": "display_data"
    }
   ],
   "source": [
    "import matplotlib.pyplot as plt\n",
    "%matplotlib inline\n",
    "from ipywidgets import interact\n",
    "\n",
    "def show_dose(nslice):\n",
    "    plt.imshow(arr_dose[nslice,:,:], cmap=plt.cm.hot)\n",
    "    plt.colorbar()\n",
    "    \n",
    "interact(show_dose, nslice=(0,len(arr_dose)-1));"
   ]
  },
  {
   "cell_type": "code",
   "execution_count": 8,
   "metadata": {
    "slideshow": {
     "slide_type": "subslide"
    }
   },
   "outputs": [],
   "source": [
    "img_resampled_dose = sitk.Resample(img_dose, img_ct, sitk.Transform(), sitk.sitkLinear, 0)"
   ]
  },
  {
   "cell_type": "code",
   "execution_count": 9,
   "metadata": {
    "slideshow": {
     "slide_type": "fragment"
    }
   },
   "outputs": [
    {
     "name": "stdout",
     "output_type": "stream",
     "text": [
      "Image size =  (220, 110, 110)\n",
      "Image min and max:  0.0 0.9999992\n"
     ]
    }
   ],
   "source": [
    "arr_resampled_dose = sitk.GetArrayFromImage(img_resampled_dose)\n",
    "print('Image size = ', arr_resampled_dose.shape)\n",
    "print('Image min and max: ',  np.amin(arr_resampled_dose), np.amax(arr_resampled_dose))"
   ]
  },
  {
   "cell_type": "code",
   "execution_count": 10,
   "metadata": {
    "slideshow": {
     "slide_type": "fragment"
    }
   },
   "outputs": [
    {
     "data": {
      "application/vnd.jupyter.widget-view+json": {
       "model_id": "75471c96a6d24cecb8eccb4253eb2fd3",
       "version_major": 2,
       "version_minor": 0
      },
      "text/plain": [
       "interactive(children=(IntSlider(value=56, description='nslice', max=109), FloatSlider(value=0.7, description='…"
      ]
     },
     "metadata": {},
     "output_type": "display_data"
    }
   ],
   "source": [
    "def show_fusion(nslice=56, opacity=0.7):\n",
    "    fig, ax = plt.subplots(figsize=(10, 6))\n",
    "    plt.imshow(arr_ct[:,nslice,:], origin='lower', cmap=plt.cm.gray)\n",
    "    a = arr_resampled_dose[:,nslice,:]\n",
    "    b = np.ma.masked_where(a <= 0.001, a)\n",
    "    plt.imshow(b, alpha=opacity, origin='lower', cmap=plt.cm.hot)\n",
    "    plt.colorbar()\n",
    "    \n",
    "interact(show_fusion, nslice=(0,arr_ct.shape[1]-1), opacity=(0,1,0.1));"
   ]
  },
  {
   "cell_type": "markdown",
   "metadata": {},
   "source": [
    "Questions:\n",
    "- plot a depth dose profile\n",
    "- display uncertainty map\n"
   ]
  },
  {
   "cell_type": "code",
   "execution_count": null,
   "metadata": {},
   "outputs": [],
   "source": []
  }
 ],
 "metadata": {
  "celltoolbar": "Slideshow",
  "kernelspec": {
   "display_name": "Python 2",
   "language": "python",
   "name": "python2"
  },
  "language_info": {
   "codemirror_mode": {
    "name": "ipython",
    "version": 3
   },
   "file_extension": ".py",
   "mimetype": "text/x-python",
   "name": "python",
   "nbconvert_exporter": "python",
   "pygments_lexer": "ipython3",
   "version": "3.6.9"
  }
 },
 "nbformat": 4,
 "nbformat_minor": 2
}
